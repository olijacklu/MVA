{
  "cells": [
    {
      "cell_type": "markdown",
      "metadata": {
        "cell_ktag": "dBcEwaFZKufF",
        "id": "iswBAgPTURYe"
      },
      "source": [
        "# TP 3  : Graph Neural Networks Architecture\n",
        "\n",
        "**Théo Rudkiewicz, Cyriaque Rousselot**"
      ]
    },
    {
      "cell_type": "markdown",
      "metadata": {},
      "source": [
        "Names:\n",
        "- Carlos Cuevas Villarmin\n",
        "- Oliver Jack\n",
        "- Javier Alejandro Lopetegui Gonzalez\n",
        "\n",
        "*MVA, ENS Paris-Saclay*"
      ]
    },
    {
      "cell_type": "markdown",
      "metadata": {
        "cell_ktag": "dBcEwaFZKufF",
        "id": "3u_JHHUpURYi"
      },
      "source": [
        "# TUTORIAL"
      ]
    },
    {
      "cell_type": "markdown",
      "metadata": {
        "cell_ktag": "dBcEwaFZKufF",
        "id": "1dy1pDZuURYj"
      },
      "source": [
        "### Install Pytorch Geometric\n",
        "\n",
        "To handle graph data, we use the library Pytorch Geometric : https://pytorch-geometric.readthedocs.io/en/latest/\n",
        "\n",
        "*   If you use _Google Colab_, simply run the following cell to install Pytorch Geometric (**advised**).\n",
        "*   If you plan using your _own environment_, follow the documentation to install Pytorch Geometric : https://pytorch-geometric.readthedocs.io/en/latest/install/installation.html and skip the following cell."
      ]
    },
    {
      "cell_type": "code",
      "execution_count": 1,
      "metadata": {
        "cell_ktag": "dBcEwaFZKufF",
        "colab": {
          "base_uri": "https://localhost:8080/"
        },
        "id": "TMW12zHNURYl",
        "outputId": "eb7a0500-135e-4f92-8d0e-77fec84bc894"
      },
      "outputs": [
        {
          "name": "stdout",
          "output_type": "stream",
          "text": [
            "Looking in links: https://pytorch-geometric.com/whl/torch-2.5.1+cu124.html\n",
            "Collecting torch-scatter\n",
            "  Downloading https://data.pyg.org/whl/torch-2.5.0%2Bcu124/torch_scatter-2.1.2%2Bpt25cu124-cp311-cp311-linux_x86_64.whl (10.8 MB)\n",
            "\u001b[2K     \u001b[90m━━━━━━━━━━━━━━━━━━━━━━━━━━━━━━━━━━━━━━━━\u001b[0m \u001b[32m10.8/10.8 MB\u001b[0m \u001b[31m37.0 MB/s\u001b[0m eta \u001b[36m0:00:00\u001b[0m\n",
            "\u001b[?25hInstalling collected packages: torch-scatter\n",
            "Successfully installed torch-scatter-2.1.2+pt25cu124\n",
            "Looking in links: https://pytorch-geometric.com/whl/torch-2.5.1+cu124.html\n",
            "Collecting torch-sparse\n",
            "  Downloading https://data.pyg.org/whl/torch-2.5.0%2Bcu124/torch_sparse-0.6.18%2Bpt25cu124-cp311-cp311-linux_x86_64.whl (5.2 MB)\n",
            "\u001b[2K     \u001b[90m━━━━━━━━━━━━━━━━━━━━━━━━━━━━━━━━━━━━━━━━\u001b[0m \u001b[32m5.2/5.2 MB\u001b[0m \u001b[31m16.0 MB/s\u001b[0m eta \u001b[36m0:00:00\u001b[0m\n",
            "\u001b[?25hRequirement already satisfied: scipy in /usr/local/lib/python3.11/dist-packages (from torch-sparse) (1.14.1)\n",
            "Requirement already satisfied: numpy<2.3,>=1.23.5 in /usr/local/lib/python3.11/dist-packages (from scipy->torch-sparse) (1.26.4)\n",
            "Installing collected packages: torch-sparse\n",
            "Successfully installed torch-sparse-0.6.18+pt25cu124\n",
            "Looking in links: https://pytorch-geometric.com/whl/torch-2.5.1+cu124.html\n",
            "Collecting torch-cluster\n",
            "  Downloading https://data.pyg.org/whl/torch-2.5.0%2Bcu124/torch_cluster-1.6.3%2Bpt25cu124-cp311-cp311-linux_x86_64.whl (3.4 MB)\n",
            "\u001b[2K     \u001b[90m━━━━━━━━━━━━━━━━━━━━━━━━━━━━━━━━━━━━━━━━\u001b[0m \u001b[32m3.4/3.4 MB\u001b[0m \u001b[31m53.8 MB/s\u001b[0m eta \u001b[36m0:00:00\u001b[0m\n",
            "\u001b[?25hRequirement already satisfied: scipy in /usr/local/lib/python3.11/dist-packages (from torch-cluster) (1.14.1)\n",
            "Requirement already satisfied: numpy<2.3,>=1.23.5 in /usr/local/lib/python3.11/dist-packages (from scipy->torch-cluster) (1.26.4)\n",
            "Installing collected packages: torch-cluster\n",
            "Successfully installed torch-cluster-1.6.3+pt25cu124\n",
            "Looking in links: https://pytorch-geometric.com/whl/torch-2.5.1+cu124.html\n",
            "Collecting torch-spline-conv\n",
            "  Downloading https://data.pyg.org/whl/torch-2.5.0%2Bcu124/torch_spline_conv-1.2.2%2Bpt25cu124-cp311-cp311-linux_x86_64.whl (1.0 MB)\n",
            "\u001b[2K     \u001b[90m━━━━━━━━━━━━━━━━━━━━━━━━━━━━━━━━━━━━━━━━\u001b[0m \u001b[32m1.0/1.0 MB\u001b[0m \u001b[31m9.3 MB/s\u001b[0m eta \u001b[36m0:00:00\u001b[0m\n",
            "\u001b[?25hInstalling collected packages: torch-spline-conv\n",
            "Successfully installed torch-spline-conv-1.2.2+pt25cu124\n",
            "Collecting torch-geometric\n",
            "  Downloading torch_geometric-2.6.1-py3-none-any.whl.metadata (63 kB)\n",
            "\u001b[2K     \u001b[90m━━━━━━━━━━━━━━━━━━━━━━━━━━━━━━━━━━━━━━━━\u001b[0m \u001b[32m63.1/63.1 kB\u001b[0m \u001b[31m2.9 MB/s\u001b[0m eta \u001b[36m0:00:00\u001b[0m\n",
            "\u001b[?25hRequirement already satisfied: aiohttp in /usr/local/lib/python3.11/dist-packages (from torch-geometric) (3.11.13)\n",
            "Requirement already satisfied: fsspec in /usr/local/lib/python3.11/dist-packages (from torch-geometric) (2024.10.0)\n",
            "Requirement already satisfied: jinja2 in /usr/local/lib/python3.11/dist-packages (from torch-geometric) (3.1.6)\n",
            "Requirement already satisfied: numpy in /usr/local/lib/python3.11/dist-packages (from torch-geometric) (1.26.4)\n",
            "Requirement already satisfied: psutil>=5.8.0 in /usr/local/lib/python3.11/dist-packages (from torch-geometric) (5.9.5)\n",
            "Requirement already satisfied: pyparsing in /usr/local/lib/python3.11/dist-packages (from torch-geometric) (3.2.1)\n",
            "Requirement already satisfied: requests in /usr/local/lib/python3.11/dist-packages (from torch-geometric) (2.32.3)\n",
            "Requirement already satisfied: tqdm in /usr/local/lib/python3.11/dist-packages (from torch-geometric) (4.67.1)\n",
            "Requirement already satisfied: aiohappyeyeballs>=2.3.0 in /usr/local/lib/python3.11/dist-packages (from aiohttp->torch-geometric) (2.5.0)\n",
            "Requirement already satisfied: aiosignal>=1.1.2 in /usr/local/lib/python3.11/dist-packages (from aiohttp->torch-geometric) (1.3.2)\n",
            "Requirement already satisfied: attrs>=17.3.0 in /usr/local/lib/python3.11/dist-packages (from aiohttp->torch-geometric) (25.1.0)\n",
            "Requirement already satisfied: frozenlist>=1.1.1 in /usr/local/lib/python3.11/dist-packages (from aiohttp->torch-geometric) (1.5.0)\n",
            "Requirement already satisfied: multidict<7.0,>=4.5 in /usr/local/lib/python3.11/dist-packages (from aiohttp->torch-geometric) (6.1.0)\n",
            "Requirement already satisfied: propcache>=0.2.0 in /usr/local/lib/python3.11/dist-packages (from aiohttp->torch-geometric) (0.3.0)\n",
            "Requirement already satisfied: yarl<2.0,>=1.17.0 in /usr/local/lib/python3.11/dist-packages (from aiohttp->torch-geometric) (1.18.3)\n",
            "Requirement already satisfied: MarkupSafe>=2.0 in /usr/local/lib/python3.11/dist-packages (from jinja2->torch-geometric) (3.0.2)\n",
            "Requirement already satisfied: charset-normalizer<4,>=2 in /usr/local/lib/python3.11/dist-packages (from requests->torch-geometric) (3.4.1)\n",
            "Requirement already satisfied: idna<4,>=2.5 in /usr/local/lib/python3.11/dist-packages (from requests->torch-geometric) (3.10)\n",
            "Requirement already satisfied: urllib3<3,>=1.21.1 in /usr/local/lib/python3.11/dist-packages (from requests->torch-geometric) (2.3.0)\n",
            "Requirement already satisfied: certifi>=2017.4.17 in /usr/local/lib/python3.11/dist-packages (from requests->torch-geometric) (2025.1.31)\n",
            "Downloading torch_geometric-2.6.1-py3-none-any.whl (1.1 MB)\n",
            "\u001b[2K   \u001b[90m━━━━━━━━━━━━━━━━━━━━━━━━━━━━━━━━━━━━━━━━\u001b[0m \u001b[32m1.1/1.1 MB\u001b[0m \u001b[31m29.7 MB/s\u001b[0m eta \u001b[36m0:00:00\u001b[0m\n",
            "\u001b[?25hInstalling collected packages: torch-geometric\n",
            "Successfully installed torch-geometric-2.6.1\n"
          ]
        }
      ],
      "source": [
        "########## INSTALL TORCH GEOMETRIC ##################\n",
        "# https://pytorch-geometric.readthedocs.io/en/latest/\n",
        "#####################################################\n",
        "import torch\n",
        "\n",
        "\n",
        "def format_pytorch_version(version):\n",
        "    return version.split(\"+\")[0]\n",
        "\n",
        "\n",
        "TORCH_version = torch.__version__\n",
        "TORCH = format_pytorch_version(TORCH_version)\n",
        "\n",
        "\n",
        "def format_cuda_version(version):\n",
        "    return \"cu\" + version.replace(\".\", \"\")\n",
        "\n",
        "\n",
        "CUDA_version = torch.version.cuda\n",
        "CUDA = format_cuda_version(CUDA_version)\n",
        "\n",
        "!pip install torch-scatter     -f https://pytorch-geometric.com/whl/torch-{TORCH}+{CUDA}.html\n",
        "!pip install torch-sparse      -f https://pytorch-geometric.com/whl/torch-{TORCH}+{CUDA}.html\n",
        "!pip install torch-cluster     -f https://pytorch-geometric.com/whl/torch-{TORCH}+{CUDA}.html\n",
        "!pip install torch-spline-conv -f https://pytorch-geometric.com/whl/torch-{TORCH}+{CUDA}.html\n",
        "!pip install torch-geometric\n"
      ]
    },
    {
      "cell_type": "markdown",
      "metadata": {
        "cell_ktag": "dBcEwaFZKufF",
        "id": "8GRTgPSIURYo"
      },
      "source": [
        "### Import required packages\n",
        "\n",
        "Run the following cell to import all required packages. This cell **must not** be modified.\n",
        "\n",
        "To significantly accelerate your training, it is advised to use GPU. Using Google Colab, you need to activate it :\n",
        "\n",
        "*   Edit --> Notebook Setting --> Hardware accelerator --> GPU"
      ]
    },
    {
      "cell_type": "code",
      "execution_count": 2,
      "metadata": {
        "cell_ktag": "dBcEwaFZKufF",
        "id": "l2kiGljgURYp"
      },
      "outputs": [],
      "source": [
        "#####################################################\n",
        "################## PACKAGES #########################\n",
        "#####################################################\n",
        "import numpy as np\n",
        "import matplotlib.pyplot as plt\n",
        "\n",
        "import torch.nn as nn\n",
        "import torch_geometric.nn as graphnn\n",
        "from sklearn.metrics import f1_score\n",
        "from torch_geometric.datasets import PPI\n",
        "from torch_geometric.loader import DataLoader"
      ]
    },
    {
      "cell_type": "markdown",
      "metadata": {
        "cell_ktag": "dBcEwaFZKufF",
        "id": "hWXh3ZU0URYp"
      },
      "source": [
        "### Dataset\n",
        "\n",
        "We use the Protein-Protein Interaction (PPI) network dataset which includes:\n",
        "- 20 graphs for training\n",
        "- 2 graphs for validation\n",
        "- 2 graphs for testing\n",
        "\n",
        "One graph of the PPI dataset has on average 2372 nodes. Each node has:\n",
        "- 50 features : positional gene sets / motif gene / immunological signatures ...\n",
        "- 121 (binary) labels : gene ontology sets (way to classify gene products like proteins).\n",
        "\n",
        "**This problem aims to predict, for a given PPI graph, the correct nodes' labels**.\n",
        "\n",
        "**It is a node (multi-label) classification task** (trained using supervised learning, with labels to be predicted for each node).\n",
        "\n",
        "For your curiosity, more detailed information on the dataset and some applications:\n",
        "- https://cs.stanford.edu/~jure/pubs/pathways-psb18.pdf\n",
        "- https://arxiv.org/abs/1707.04638\n",
        "\n",
        "To understand how a graph data is implemented in Pytorch Geometric, refer to : https://pytorch-geometric.readthedocs.io/en/latest/get_started/introduction.html\n"
      ]
    },
    {
      "cell_type": "code",
      "execution_count": null,
      "metadata": {
        "cell_ktag": "dBcEwaFZKufF",
        "colab": {
          "base_uri": "https://localhost:8080/"
        },
        "id": "AJh3ufOHURYq",
        "outputId": "315e3205-50c0-4b64-80aa-c697751046e9"
      },
      "outputs": [
        {
          "name": "stderr",
          "output_type": "stream",
          "text": [
            "Downloading https://data.dgl.ai/dataset/ppi.zip\n",
            "Extracting ./ppi.zip\n",
            "Processing...\n",
            "/usr/local/lib/python3.11/dist-packages/networkx/readwrite/json_graph/node_link.py:287: FutureWarning: \n",
            "The default value will be changed to `edges=\"edges\" in NetworkX 3.6.\n",
            "\n",
            "To make this warning go away, explicitly set the edges kwarg, e.g.:\n",
            "\n",
            "  nx.node_link_graph(data, edges=\"links\") to preserve current behavior, or\n",
            "  nx.node_link_graph(data, edges=\"edges\") for forward compatibility.\n",
            "  warnings.warn(\n"
          ]
        },
        {
          "name": "stdout",
          "output_type": "stream",
          "text": [
            "Number of samples in the train dataset:  20\n",
            "Number of samples in the val dataset:  2\n",
            "Number of samples in the test dataset:  2\n",
            "Output of one sample from the train dataset:  Data(x=[1767, 50], edge_index=[2, 32318], y=[1767, 121])\n",
            "Edge_index :\n",
            "tensor([[   0,    0,    0,  ..., 1744, 1745, 1749],\n",
            "        [ 372, 1101,  766,  ..., 1745, 1744, 1739]])\n",
            "Number of features per node:  50\n",
            "Number of classes per node:  121\n"
          ]
        },
        {
          "name": "stderr",
          "output_type": "stream",
          "text": [
            "Done!\n"
          ]
        }
      ],
      "source": [
        "### LOAD DATASETS\n",
        "\n",
        "BATCH_SIZE = 2\n",
        "\n",
        "# Train Dataset\n",
        "train_dataset = PPI(root=\"\", split=\"train\")\n",
        "train_dataloader = DataLoader(train_dataset, batch_size=BATCH_SIZE)\n",
        "# Val Dataset\n",
        "val_dataset = PPI(root=\"\", split=\"val\")\n",
        "val_dataloader = DataLoader(val_dataset, batch_size=BATCH_SIZE)\n",
        "# Test Dataset\n",
        "test_dataset = PPI(root=\"\", split=\"test\")\n",
        "test_dataloader = DataLoader(test_dataset, batch_size=BATCH_SIZE)\n",
        "\n",
        "# Number of features and classes\n",
        "n_features, n_classes = train_dataset[0].x.shape[1], train_dataset[0].y.shape[1]\n",
        "\n",
        "print(\"Number of samples in the train dataset: \", len(train_dataset))\n",
        "print(\"Number of samples in the val dataset: \", len(test_dataset))\n",
        "print(\"Number of samples in the test dataset: \", len(test_dataset))\n",
        "print(\"Output of one sample from the train dataset: \", train_dataset[0])\n",
        "print(\"Edge_index :\")\n",
        "print(train_dataset[0].edge_index)\n",
        "print(\"Number of features per node: \", n_features)\n",
        "print(\"Number of classes per node: \", n_classes)"
      ]
    },
    {
      "cell_type": "markdown",
      "metadata": {
        "cell_ktag": "dBcEwaFZKufF",
        "id": "x-A-Rw1GURYr"
      },
      "source": [
        "### Define a basic Model"
      ]
    },
    {
      "cell_type": "markdown",
      "metadata": {
        "cell_ktag": "dBcEwaFZKufF",
        "id": "71YKDfi4URYs"
      },
      "source": [
        "Here we define a very simple Graph Neural Network model which will be used as our baseline. This model consists of three graph convolutional layers (from https://arxiv.org/pdf/1609.02907.pdf). The first two layers computes 256 features, followed by an ELU activation function. The last layer is used for (multi-label) classification task, computing 121 features (for each node)."
      ]
    },
    {
      "cell_type": "code",
      "execution_count": null,
      "metadata": {
        "cell_ktag": "dBcEwaFZKufF",
        "id": "WNJgQY8oURYs"
      },
      "outputs": [],
      "source": [
        "#####################################################\n",
        "################## MODEL ############################\n",
        "#####################################################\n",
        "class BasicGraphModel(nn.Module):\n",
        "    def __init__(self, input_size, hidden_size, output_size):\n",
        "        super().__init__()\n",
        "\n",
        "        self.graphconv1 = graphnn.GCNConv(input_size, hidden_size)\n",
        "        self.graphconv2 = graphnn.GCNConv(hidden_size, hidden_size)\n",
        "        self.graphconv3 = graphnn.GCNConv(hidden_size, output_size)\n",
        "\n",
        "        self.elu = nn.ELU()\n",
        "\n",
        "    def forward(self, x, edge_index):\n",
        "        x = self.graphconv1(x, edge_index)\n",
        "        x = self.elu(x)\n",
        "        x = self.graphconv2(x, edge_index)\n",
        "        x = self.elu(x)\n",
        "        x = self.graphconv3(x, edge_index)\n",
        "\n",
        "        return x"
      ]
    },
    {
      "cell_type": "markdown",
      "metadata": {
        "cell_ktag": "dBcEwaFZKufF",
        "id": "BSd7_dzCURYt"
      },
      "source": [
        "Next function is designed to evaluate the performance of the model, computing the F1-Score"
      ]
    },
    {
      "cell_type": "code",
      "execution_count": null,
      "metadata": {
        "cell_ktag": "dBcEwaFZKufF",
        "id": "tZd8KEC4URYu"
      },
      "outputs": [],
      "source": [
        "#####################################################\n",
        "############### TEST FUNCTION #######################\n",
        "#####################################################\n",
        "def evaluate(model, loss_fcn, device, dataloader):\n",
        "    score_list_batch = []\n",
        "\n",
        "    model.eval()\n",
        "    for i, batch in enumerate(dataloader):\n",
        "        batch = batch.to(device)\n",
        "        output = model(batch.x, batch.edge_index)\n",
        "        loss_test = loss_fcn(output, batch.y)\n",
        "        predict = np.where(output.detach().cpu().numpy() >= 0, 1, 0)\n",
        "        score = f1_score(batch.y.cpu().numpy(), predict, average=\"micro\")\n",
        "        score_list_batch.append(score)\n",
        "\n",
        "    return np.array(score_list_batch).mean()"
      ]
    },
    {
      "cell_type": "markdown",
      "metadata": {
        "cell_ktag": "dBcEwaFZKufF",
        "id": "3Nu95Rb1URYu"
      },
      "source": [
        "Next we construct the function to train the model."
      ]
    },
    {
      "cell_type": "code",
      "execution_count": null,
      "metadata": {
        "cell_ktag": "dBcEwaFZKufF",
        "id": "b-XZSL_BURYv"
      },
      "outputs": [],
      "source": [
        "#####################################################\n",
        "############## TRAIN FUNCTION #######################\n",
        "#####################################################\n",
        "def train(model, loss_fcn, device, optimizer, max_epochs, train_dataloader, val_dataloader):\n",
        "    epoch_list = []\n",
        "    scores_list = []\n",
        "    loss_list = []\n",
        "    # loop over epochs\n",
        "    for epoch in range(max_epochs):\n",
        "        model.train()\n",
        "        losses = []\n",
        "        # loop over batches\n",
        "        for i, train_batch in enumerate(train_dataloader):\n",
        "            optimizer.zero_grad()\n",
        "            train_batch_device = train_batch.to(device)\n",
        "            # logits is the output of the model\n",
        "            logits = model(train_batch_device.x, train_batch_device.edge_index)\n",
        "            # compute the loss\n",
        "            loss = loss_fcn(logits, train_batch_device.y)\n",
        "            # optimizer step\n",
        "            loss.backward()\n",
        "            optimizer.step()\n",
        "            losses.append(loss.item())\n",
        "        loss_data = np.array(losses).mean()\n",
        "        print(\"Epoch {:05d} | Loss: {:.4f}\".format(epoch + 1, loss_data))\n",
        "        loss_list.append(loss_data)\n",
        "        if epoch % 5 == 0:\n",
        "            # evaluate the model on the validation set\n",
        "            # computes the f1-score (see next function)\n",
        "            score = evaluate(model, loss_fcn, device, val_dataloader)\n",
        "            print(\"F1-Score: {:.4f}\".format(score))\n",
        "            scores_list.append(score)\n",
        "            epoch_list.append(epoch)\n",
        "\n",
        "    return epoch_list, scores_list, loss_list"
      ]
    },
    {
      "cell_type": "markdown",
      "metadata": {
        "cell_ktag": "dBcEwaFZKufF",
        "id": "ESj4M9sXURYw"
      },
      "source": [
        "Let's train this model !"
      ]
    },
    {
      "cell_type": "code",
      "execution_count": 19,
      "metadata": {
        "colab": {
          "base_uri": "https://localhost:8080/"
        },
        "id": "ZLfhdR8ZYxzP",
        "outputId": "d3d5fa8f-9e7f-4ac2-ae5f-5c6340516c45"
      },
      "outputs": [
        {
          "name": "stdout",
          "output_type": "stream",
          "text": [
            "\n",
            "Device:  cuda\n"
          ]
        }
      ],
      "source": [
        "### DEVICE GPU OR CPU : will select GPU if available\n",
        "device = torch.device(\"cuda\" if torch.cuda.is_available() else \"cpu\")\n",
        "print(\"\\nDevice: \", device)\n",
        "\n",
        "### Max number of epochs\n",
        "max_epochs = 200\n",
        "\n",
        "loss_fcn = nn.BCEWithLogitsLoss()"
      ]
    },
    {
      "cell_type": "code",
      "execution_count": null,
      "metadata": {
        "cell_ktag": "dBcEwaFZKufF",
        "colab": {
          "base_uri": "https://localhost:8080/"
        },
        "collapsed": true,
        "id": "piB3qAUhURYw",
        "outputId": "cf214186-f7ab-489a-dca9-4778f164888b"
      },
      "outputs": [
        {
          "name": "stdout",
          "output_type": "stream",
          "text": [
            "\n",
            "Device:  cuda\n",
            "Epoch 00001 | Loss: 0.6382\n",
            "F1-Score: 0.4535\n",
            "Epoch 00002 | Loss: 0.5810\n",
            "Epoch 00003 | Loss: 0.5618\n",
            "Epoch 00004 | Loss: 0.5558\n",
            "Epoch 00005 | Loss: 0.5509\n",
            "Epoch 00006 | Loss: 0.5464\n",
            "F1-Score: 0.5057\n",
            "Epoch 00007 | Loss: 0.5423\n",
            "Epoch 00008 | Loss: 0.5377\n",
            "Epoch 00009 | Loss: 0.5340\n",
            "Epoch 00010 | Loss: 0.5314\n",
            "Epoch 00011 | Loss: 0.5288\n",
            "F1-Score: 0.5279\n",
            "Epoch 00012 | Loss: 0.5263\n",
            "Epoch 00013 | Loss: 0.5238\n",
            "Epoch 00014 | Loss: 0.5215\n",
            "Epoch 00015 | Loss: 0.5192\n",
            "Epoch 00016 | Loss: 0.5170\n",
            "F1-Score: 0.5206\n",
            "Epoch 00017 | Loss: 0.5146\n",
            "Epoch 00018 | Loss: 0.5123\n",
            "Epoch 00019 | Loss: 0.5100\n",
            "Epoch 00020 | Loss: 0.5075\n",
            "Epoch 00021 | Loss: 0.5053\n",
            "F1-Score: 0.5288\n",
            "Epoch 00022 | Loss: 0.5033\n",
            "Epoch 00023 | Loss: 0.5013\n",
            "Epoch 00024 | Loss: 0.4993\n",
            "Epoch 00025 | Loss: 0.4974\n",
            "Epoch 00026 | Loss: 0.4955\n",
            "F1-Score: 0.5406\n",
            "Epoch 00027 | Loss: 0.4937\n",
            "Epoch 00028 | Loss: 0.4919\n",
            "Epoch 00029 | Loss: 0.4901\n",
            "Epoch 00030 | Loss: 0.4883\n",
            "Epoch 00031 | Loss: 0.4866\n",
            "F1-Score: 0.5565\n",
            "Epoch 00032 | Loss: 0.4850\n",
            "Epoch 00033 | Loss: 0.4836\n",
            "Epoch 00034 | Loss: 0.4823\n",
            "Epoch 00035 | Loss: 0.4812\n",
            "Epoch 00036 | Loss: 0.4806\n",
            "F1-Score: 0.5542\n",
            "Epoch 00037 | Loss: 0.4792\n",
            "Epoch 00038 | Loss: 0.4779\n",
            "Epoch 00039 | Loss: 0.4762\n",
            "Epoch 00040 | Loss: 0.4752\n",
            "Epoch 00041 | Loss: 0.4739\n",
            "F1-Score: 0.5783\n",
            "Epoch 00042 | Loss: 0.4727\n",
            "Epoch 00043 | Loss: 0.4705\n",
            "Epoch 00044 | Loss: 0.4704\n",
            "Epoch 00045 | Loss: 0.4700\n",
            "Epoch 00046 | Loss: 0.4691\n",
            "F1-Score: 0.5748\n",
            "Epoch 00047 | Loss: 0.4683\n",
            "Epoch 00048 | Loss: 0.4671\n",
            "Epoch 00049 | Loss: 0.4651\n",
            "Epoch 00050 | Loss: 0.4639\n",
            "Epoch 00051 | Loss: 0.4620\n",
            "F1-Score: 0.5778\n",
            "Epoch 00052 | Loss: 0.4612\n",
            "Epoch 00053 | Loss: 0.4604\n",
            "Epoch 00054 | Loss: 0.4590\n",
            "Epoch 00055 | Loss: 0.4577\n",
            "Epoch 00056 | Loss: 0.4567\n",
            "F1-Score: 0.5789\n",
            "Epoch 00057 | Loss: 0.4565\n",
            "Epoch 00058 | Loss: 0.4557\n",
            "Epoch 00059 | Loss: 0.4563\n",
            "Epoch 00060 | Loss: 0.4571\n",
            "Epoch 00061 | Loss: 0.4591\n",
            "F1-Score: 0.5538\n",
            "Epoch 00062 | Loss: 0.4584\n",
            "Epoch 00063 | Loss: 0.4579\n",
            "Epoch 00064 | Loss: 0.4574\n",
            "Epoch 00065 | Loss: 0.4558\n",
            "Epoch 00066 | Loss: 0.4538\n",
            "F1-Score: 0.5574\n",
            "Epoch 00067 | Loss: 0.4520\n",
            "Epoch 00068 | Loss: 0.4506\n",
            "Epoch 00069 | Loss: 0.4509\n",
            "Epoch 00070 | Loss: 0.4495\n",
            "Epoch 00071 | Loss: 0.4475\n",
            "F1-Score: 0.6018\n",
            "Epoch 00072 | Loss: 0.4468\n",
            "Epoch 00073 | Loss: 0.4456\n",
            "Epoch 00074 | Loss: 0.4449\n",
            "Epoch 00075 | Loss: 0.4451\n",
            "Epoch 00076 | Loss: 0.4451\n",
            "F1-Score: 0.5747\n",
            "Epoch 00077 | Loss: 0.4441\n",
            "Epoch 00078 | Loss: 0.4430\n",
            "Epoch 00079 | Loss: 0.4429\n",
            "Epoch 00080 | Loss: 0.4422\n",
            "Epoch 00081 | Loss: 0.4425\n",
            "F1-Score: 0.5822\n",
            "Epoch 00082 | Loss: 0.4427\n",
            "Epoch 00083 | Loss: 0.4425\n",
            "Epoch 00084 | Loss: 0.4416\n",
            "Epoch 00085 | Loss: 0.4407\n",
            "Epoch 00086 | Loss: 0.4397\n",
            "F1-Score: 0.6077\n",
            "Epoch 00087 | Loss: 0.4384\n",
            "Epoch 00088 | Loss: 0.4371\n",
            "Epoch 00089 | Loss: 0.4364\n",
            "Epoch 00090 | Loss: 0.4366\n",
            "Epoch 00091 | Loss: 0.4353\n",
            "F1-Score: 0.5651\n",
            "Epoch 00092 | Loss: 0.4354\n",
            "Epoch 00093 | Loss: 0.4356\n",
            "Epoch 00094 | Loss: 0.4368\n",
            "Epoch 00095 | Loss: 0.4403\n",
            "Epoch 00096 | Loss: 0.4409\n",
            "F1-Score: 0.6258\n",
            "Epoch 00097 | Loss: 0.4389\n",
            "Epoch 00098 | Loss: 0.4358\n",
            "Epoch 00099 | Loss: 0.4355\n",
            "Epoch 00100 | Loss: 0.4367\n",
            "Epoch 00101 | Loss: 0.4331\n",
            "F1-Score: 0.5823\n",
            "Epoch 00102 | Loss: 0.4316\n",
            "Epoch 00103 | Loss: 0.4306\n",
            "Epoch 00104 | Loss: 0.4304\n",
            "Epoch 00105 | Loss: 0.4290\n",
            "Epoch 00106 | Loss: 0.4292\n",
            "F1-Score: 0.6054\n",
            "Epoch 00107 | Loss: 0.4304\n",
            "Epoch 00108 | Loss: 0.4308\n",
            "Epoch 00109 | Loss: 0.4297\n",
            "Epoch 00110 | Loss: 0.4313\n",
            "Epoch 00111 | Loss: 0.4298\n",
            "F1-Score: 0.6148\n",
            "Epoch 00112 | Loss: 0.4285\n",
            "Epoch 00113 | Loss: 0.4275\n",
            "Epoch 00114 | Loss: 0.4271\n",
            "Epoch 00115 | Loss: 0.4257\n",
            "Epoch 00116 | Loss: 0.4246\n",
            "F1-Score: 0.6090\n",
            "Epoch 00117 | Loss: 0.4243\n",
            "Epoch 00118 | Loss: 0.4228\n",
            "Epoch 00119 | Loss: 0.4214\n",
            "Epoch 00120 | Loss: 0.4210\n",
            "Epoch 00121 | Loss: 0.4201\n",
            "F1-Score: 0.6238\n",
            "Epoch 00122 | Loss: 0.4203\n",
            "Epoch 00123 | Loss: 0.4195\n",
            "Epoch 00124 | Loss: 0.4194\n",
            "Epoch 00125 | Loss: 0.4193\n",
            "Epoch 00126 | Loss: 0.4196\n",
            "F1-Score: 0.6327\n",
            "Epoch 00127 | Loss: 0.4199\n",
            "Epoch 00128 | Loss: 0.4190\n",
            "Epoch 00129 | Loss: 0.4204\n",
            "Epoch 00130 | Loss: 0.4229\n",
            "Epoch 00131 | Loss: 0.4227\n",
            "F1-Score: 0.6204\n",
            "Epoch 00132 | Loss: 0.4217\n",
            "Epoch 00133 | Loss: 0.4218\n",
            "Epoch 00134 | Loss: 0.4197\n",
            "Epoch 00135 | Loss: 0.4190\n",
            "Epoch 00136 | Loss: 0.4192\n",
            "F1-Score: 0.6061\n",
            "Epoch 00137 | Loss: 0.4170\n",
            "Epoch 00138 | Loss: 0.4170\n",
            "Epoch 00139 | Loss: 0.4167\n",
            "Epoch 00140 | Loss: 0.4159\n",
            "Epoch 00141 | Loss: 0.4187\n",
            "F1-Score: 0.5913\n",
            "Epoch 00142 | Loss: 0.4194\n",
            "Epoch 00143 | Loss: 0.4219\n",
            "Epoch 00144 | Loss: 0.4234\n",
            "Epoch 00145 | Loss: 0.4225\n",
            "Epoch 00146 | Loss: 0.4241\n",
            "F1-Score: 0.6124\n",
            "Epoch 00147 | Loss: 0.4268\n",
            "Epoch 00148 | Loss: 0.4252\n",
            "Epoch 00149 | Loss: 0.4247\n",
            "Epoch 00150 | Loss: 0.4251\n",
            "Epoch 00151 | Loss: 0.4234\n",
            "F1-Score: 0.6412\n",
            "Epoch 00152 | Loss: 0.4219\n",
            "Epoch 00153 | Loss: 0.4215\n",
            "Epoch 00154 | Loss: 0.4220\n",
            "Epoch 00155 | Loss: 0.4187\n",
            "Epoch 00156 | Loss: 0.4176\n",
            "F1-Score: 0.6298\n",
            "Epoch 00157 | Loss: 0.4148\n",
            "Epoch 00158 | Loss: 0.4122\n",
            "Epoch 00159 | Loss: 0.4128\n",
            "Epoch 00160 | Loss: 0.4126\n",
            "Epoch 00161 | Loss: 0.4112\n",
            "F1-Score: 0.6273\n",
            "Epoch 00162 | Loss: 0.4102\n",
            "Epoch 00163 | Loss: 0.4091\n",
            "Epoch 00164 | Loss: 0.4084\n",
            "Epoch 00165 | Loss: 0.4091\n",
            "Epoch 00166 | Loss: 0.4081\n",
            "F1-Score: 0.6221\n",
            "Epoch 00167 | Loss: 0.4085\n",
            "Epoch 00168 | Loss: 0.4084\n",
            "Epoch 00169 | Loss: 0.4085\n",
            "Epoch 00170 | Loss: 0.4085\n",
            "Epoch 00171 | Loss: 0.4081\n",
            "F1-Score: 0.6333\n",
            "Epoch 00172 | Loss: 0.4073\n",
            "Epoch 00173 | Loss: 0.4071\n",
            "Epoch 00174 | Loss: 0.4056\n",
            "Epoch 00175 | Loss: 0.4044\n",
            "Epoch 00176 | Loss: 0.4048\n",
            "F1-Score: 0.6457\n",
            "Epoch 00177 | Loss: 0.4044\n",
            "Epoch 00178 | Loss: 0.4047\n",
            "Epoch 00179 | Loss: 0.4039\n",
            "Epoch 00180 | Loss: 0.4051\n",
            "Epoch 00181 | Loss: 0.4061\n",
            "F1-Score: 0.6403\n",
            "Epoch 00182 | Loss: 0.4103\n",
            "Epoch 00183 | Loss: 0.4123\n",
            "Epoch 00184 | Loss: 0.4149\n",
            "Epoch 00185 | Loss: 0.4140\n",
            "Epoch 00186 | Loss: 0.4154\n",
            "F1-Score: 0.6071\n",
            "Epoch 00187 | Loss: 0.4212\n",
            "Epoch 00188 | Loss: 0.4208\n",
            "Epoch 00189 | Loss: 0.4170\n",
            "Epoch 00190 | Loss: 0.4153\n",
            "Epoch 00191 | Loss: 0.4187\n",
            "F1-Score: 0.5828\n",
            "Epoch 00192 | Loss: 0.4123\n",
            "Epoch 00193 | Loss: 0.4099\n",
            "Epoch 00194 | Loss: 0.4075\n",
            "Epoch 00195 | Loss: 0.4042\n",
            "Epoch 00196 | Loss: 0.4041\n",
            "F1-Score: 0.6211\n",
            "Epoch 00197 | Loss: 0.4045\n",
            "Epoch 00198 | Loss: 0.4039\n",
            "Epoch 00199 | Loss: 0.4029\n",
            "Epoch 00200 | Loss: 0.4022\n"
          ]
        }
      ],
      "source": [
        "### DEVICE GPU OR CPU : will select GPU if available\n",
        "device = torch.device(\"cuda\" if torch.cuda.is_available() else \"cpu\")\n",
        "print(\"\\nDevice: \", device)\n",
        "\n",
        "### Max number of epochs\n",
        "max_epochs = 200\n",
        "\n",
        "### DEFINE THE MODEL\n",
        "basic_model = BasicGraphModel(input_size=n_features, hidden_size=256, output_size=n_classes).to(\n",
        "    device\n",
        ")\n",
        "\n",
        "### DEFINE LOSS FUNCTION\n",
        "loss_fcn = nn.BCEWithLogitsLoss()\n",
        "\n",
        "### DEFINE OPTIMIZER\n",
        "optimizer = torch.optim.Adam(basic_model.parameters(), lr=0.005)\n",
        "\n",
        "### TRAIN THE MODEL\n",
        "epoch_list, basic_model_scores, losses = train(\n",
        "    basic_model,\n",
        "    loss_fcn,\n",
        "    device,\n",
        "    optimizer,\n",
        "    max_epochs,\n",
        "    train_dataloader,\n",
        "    val_dataloader,\n",
        ")"
      ]
    },
    {
      "cell_type": "markdown",
      "metadata": {
        "cell_ktag": "dBcEwaFZKufF",
        "id": "MEHIXSKsURYx"
      },
      "source": [
        "Let's evaluate the performance of this basic model"
      ]
    },
    {
      "cell_type": "code",
      "execution_count": null,
      "metadata": {
        "cell_ktag": "dBcEwaFZKufF",
        "colab": {
          "base_uri": "https://localhost:8080/",
          "height": 485
        },
        "id": "SA8nIotwURYx",
        "outputId": "949d1f92-85a5-44f7-dce4-0576bd5fa090"
      },
      "outputs": [
        {
          "name": "stdout",
          "output_type": "stream",
          "text": [
            "Basic Model : F1-Score on the validation set: 0.6482\n"
          ]
        },
        {
          "data": {
            "image/png": "[encoded data removed]",
            "text/plain": [
              "<Figure size 1000x500 with 1 Axes>"
            ]
          },
          "metadata": {},
          "output_type": "display_data"
        }
      ],
      "source": [
        "### F1-SCORE ON VALID DATASET\n",
        "score_valid = evaluate(basic_model, loss_fcn, device, val_dataloader)\n",
        "print(\"Basic Model : F1-Score on the validation set: {:.4f}\".format(score_valid))\n",
        "\n",
        "\n",
        "### PLOT EVOLUTION OF F1-SCORE W.R.T EPOCHS\n",
        "def plot_f1_score(epoch_list, scores):\n",
        "    plt.figure(figsize=[10, 5])\n",
        "    plt.plot(epoch_list, scores)\n",
        "    plt.title(\"Evolution of F1-Score w.r.t epochs\")\n",
        "    plt.ylim([0.0, 1.0])\n",
        "    plt.show()\n",
        "\n",
        "\n",
        "plot_f1_score(epoch_list, basic_model_scores)"
      ]
    },
    {
      "cell_type": "markdown",
      "metadata": {
        "cell_ktag": "dBcEwaFZKufF",
        "id": "DK7cRbO6URYy"
      },
      "source": [
        "# QUESTIONS\n",
        "\n",
        "## Grading\n",
        "\n",
        "You will be graded on 5 questions. You will need to provide at least 4 files :\n",
        "1. This Notebook\n",
        "2. `class_model_gnn.py`\n",
        "3. `model.pth` (the file **must be of size less than 50Mo** but 20Mo should be enough to get a very good model)\n",
        "4. `conv_as_message_passing.py`\n",
        "\n",
        "If the function you defined passes all the tests, you will get the full grade. Otherwise we  will look at the intermediate questions in the notebook to give you partial credit.\n",
        "\n",
        "\n",
        "\n",
        " Please provide clear, short and __bold font__ answers.  "
      ]
    },
    {
      "cell_type": "markdown",
      "metadata": {
        "cell_ktag": "dBcEwaFZKufF",
        "id": "1AWLXZzcURYy"
      },
      "source": [
        "> Question 1 : Design, build and train a model with a F1-score higher than 93% on validation set (**HINT :** https://arxiv.org/pdf/1710.10903.pdf).\n"
      ]
    },
    {
      "cell_type": "markdown",
      "metadata": {
        "cell_ktag": "dBcEwaFZKufF",
        "id": "TZUN2ALFURYz"
      },
      "source": [
        " Provide two files : (https://pytorch.org/tutorials/beginner/saving_loading_models.html)\n",
        " -  a file  `class_model_gnn.py` containing the class inheriting from `torch.nn.Module` architecture of your final model to load\n",
        " -  a `model.pth` file : the model weights\n",
        "\n",
        " We will  test your model on final F1-Score on a test set. You must not use the test set for hyperparameter training.\n",
        "\n",
        "Intermediate question :\n",
        "\n",
        " Provide the script for training, and a plot of the training loss.  "
      ]
    },
    {
      "cell_type": "code",
      "execution_count": 23,
      "metadata": {
        "cell_ktag": "dBcEwaFZKufF",
        "colab": {
          "base_uri": "https://localhost:8080/"
        },
        "id": "9BxWBlliURYz",
        "outputId": "efe2ef8a-6161-438f-d121-3491868082db"
      },
      "outputs": [
        {
          "name": "stdout",
          "output_type": "stream",
          "text": [
            "Model loaded successfully\n",
            "Model loaded successfully\n"
          ]
        }
      ],
      "source": [
        "import torch\n",
        "import torch.nn as nn\n",
        "import torch.nn.functional as F\n",
        "from torch_geometric.utils import softmax\n",
        "\n",
        "class MultiHeadAttention(nn.Module):\n",
        "    def __init__(self, input_dim, hidden_dim, att_heads, activation = nn.LeakyReLU(), dropout_prob=1, concat=True, add_skip_connection=True, device=device):\n",
        "        \"\"\"\n",
        "        Multi-head attention mechanism for GAT.\n",
        "        Args:\n",
        "            input_dim: Input feature size per node\n",
        "            hidden_dim: Feature size per head\n",
        "            att_heads: Number of attention heads\n",
        "            activation: Activation function\n",
        "            dropout_prob: Dropout probability\n",
        "            concat: Whether to concatenate or average attention heads\n",
        "            add_skip_connection: Whether to add skip connection or not\n",
        "        \"\"\"\n",
        "        super(MultiHeadAttention, self).__init__()\n",
        "        self.input_dim = input_dim\n",
        "        self.hidden_dim = hidden_dim\n",
        "        self.att_heads = att_heads\n",
        "        self.activation = activation\n",
        "        self.concat = concat\n",
        "        self.add_skip_connection = add_skip_connection\n",
        "\n",
        "        # Multi-head projection layer (each head gets its own transformation)\n",
        "        self.projection = nn.Linear(input_dim, att_heads * hidden_dim, bias=False)\n",
        "\n",
        "        # Attention mechanism per head (2 * hidden_dim per head)\n",
        "        self.attention_e_weights = nn.Parameter(torch.Tensor(1, self.att_heads, 2 * hidden_dim))  # Attention weights: a in GAT paper\n",
        "\n",
        "        if add_skip_connection:\n",
        "            self.skip_proj = nn.Linear(input_dim, hidden_dim * att_heads, bias=False)\n",
        "        else:\n",
        "            self.register_parameter('skip_proj', None)\n",
        "\n",
        "        self.dropout = nn.Dropout(p=dropout_prob) # In the original GAT paper, for PPI it is not applied, we won't use it\n",
        "\n",
        "        self.initialize_parameters()\n",
        "\n",
        "        self.to(device)\n",
        "\n",
        "    def initialize_parameters(self):\n",
        "        \"\"\"Apply Glorot (Xavier) initialization to weights.\"\"\" # Following the original GAT implementation\n",
        "        nn.init.xavier_uniform_(self.projection.weight)\n",
        "        nn.init.xavier_uniform_(self.attention_e_weights)\n",
        "        if self.add_skip_connection:\n",
        "            nn.init.xavier_uniform_(self.skip_proj.weight)\n",
        "\n",
        "    def forward(self, x, edge_index):\n",
        "        \"\"\"\n",
        "        Compute multi-head attention.\n",
        "        Args:\n",
        "            x: Node feature matrix of shape (batch_size, num_nodes, input_dim).\n",
        "            edge_index: Edge indices (batch_size, 2, num_edges).\n",
        "        Returns:\n",
        "            h_prime: Updated node features (batch_size, num_nodes, att_heads * hidden_dim).\n",
        "        \"\"\"\n",
        "        num_nodes, _ = x.shape\n",
        "\n",
        "        # Apply linear projection to obtain multi-head representations\n",
        "        h = self.projection(x)  # (batch_size, num_nodes, att_heads * hidden_dim)\n",
        "        h = h.view(num_nodes, self.att_heads, self.hidden_dim)  # (batch_size, num_nodes, att_heads, hidden_dim)\n",
        "\n",
        "        # Extract source & destination node indices\n",
        "        src, dst = edge_index  # (2, num_edges)\n",
        "\n",
        "        # Gather features for source and destination nodes\n",
        "        h_src = h[src]  # (batch_size, num_edges, att_heads, hidden_dim)\n",
        "        h_dst = h[dst]  # (batch_size, num_edges, att_heads, hidden_dim)\n",
        "\n",
        "        # Concatenate source and destination embeddings along the feature dimension\n",
        "        concat_h = torch.cat([h_src, h_dst], dim=-1)  # (batch_size, num_edges, att_heads, 2 * hidden_dim)\n",
        "\n",
        "        # Compute raw attention scores\n",
        "        e = torch.einsum(\"nah,nah -> na\", concat_h, self.attention_e_weights)  # (batch_size, num_edges, att_heads)\n",
        "\n",
        "        # Apply LeakyReLU activation to attention scores\n",
        "        e = self.activation(e)\n",
        "\n",
        "        # Compute softmax per destination node\n",
        "        alpha = softmax(e, dst, num_nodes=num_nodes)  # (batch_size, num_edges, att_heads)\n",
        "\n",
        "        # Compute weighted sum of source node features (using attention scores)\n",
        "        h_prime = torch.zeros((num_nodes, self.att_heads, self.hidden_dim), device=x.device)\n",
        "        h_prime.index_add_(0, dst, alpha.unsqueeze(-1) * h_src)\n",
        "\n",
        "        # Apply skip connection (if enabled)\n",
        "        if self.add_skip_connection:\n",
        "            skip_output = self.skip_proj(x).view(num_nodes, self.att_heads, self.hidden_dim)\n",
        "            h_prime += skip_output\n",
        "\n",
        "        # Concatenate or average attention heads\n",
        "        if self.concat:\n",
        "            h_prime = h_prime.view(num_nodes, self.att_heads * self.hidden_dim)  # (batch_size, num_nodes, att_heads * hidden_dim)\n",
        "        else:\n",
        "            h_prime = h_prime.mean(dim=1)  # Average over heads: (num_nodes, hidden_dim)\n",
        "\n",
        "        return h_prime  # Updated node features\n",
        "\n",
        "\n",
        "\n",
        "# Define model ( in your class_model_gnn.py)\n",
        "class StudentModel(nn.Module):\n",
        "    def __init__(self, input_dim=n_features, hidden_dim = [256, 256, 121], att_heads = [4, 4, 6], device=device):\n",
        "        super(StudentModel, self).__init__()\n",
        "        self.att1 = MultiHeadAttention(input_dim, hidden_dim[0], att_heads[0], concat=True, add_skip_connection=True, device=device)\n",
        "        self.att2 = MultiHeadAttention(hidden_dim[0] * att_heads[0], hidden_dim[1], att_heads[1], concat=True, add_skip_connection=True, device=device)\n",
        "        self.att3 = MultiHeadAttention(hidden_dim[1] * att_heads[1], hidden_dim[2], att_heads[2], concat=False, add_skip_connection=True, device=device)\n",
        "\n",
        "    def forward(self, x, edge_index):\n",
        "        x = nn.ELU()(self.att1(x, edge_index))\n",
        "        x = nn.ELU()(self.att2(x, edge_index))\n",
        "        x = self.att3(x, edge_index)#.mean(dim=-1) # Paper indicates to do sigmoid, it is done in the loss function\n",
        "                                                   # Also, mean(dim=-1) removed due to incompatible shape with target in BCE\n",
        "        return x\n",
        "\n",
        "\n",
        "# Initialize model\n",
        "model = StudentModel()\n",
        "\n",
        "## Save the model\n",
        "# torch.save(model.state_dict(), \"model.pth\")\n",
        "\n",
        "\n",
        "### This is the part we will run in the inference to grade your model\n",
        "## Load the model\n",
        "from class_model_gnn import StudentModel\n",
        "model = StudentModel()  # !  Important : No argument\n",
        "model.load_state_dict(torch.load(\"model.pth\", weights_only=True))\n",
        "model.eval()\n",
        "print(\"Model loaded successfully\")\n"
      ]
    },
    {
      "cell_type": "markdown",
      "metadata": {
        "id": "MvXKpzKpAMle"
      },
      "source": [
        "**Same function for training is used. Losses list has been added as output to provide a plot of the training loss.**"
      ]
    },
    {
      "cell_type": "code",
      "execution_count": null,
      "metadata": {
        "colab": {
          "base_uri": "https://localhost:8080/"
        },
        "collapsed": true,
        "id": "BJ8y02RYXJTq",
        "outputId": "8d7457be-0398-4925-e32e-14a713f95b54"
      },
      "outputs": [
        {
          "name": "stdout",
          "output_type": "stream",
          "text": [
            "Epoch 00001 | Loss: 0.6927\n",
            "F1-Score: 0.4747\n",
            "Epoch 00002 | Loss: 0.5301\n",
            "Epoch 00003 | Loss: 0.4972\n",
            "Epoch 00004 | Loss: 0.4775\n",
            "Epoch 00005 | Loss: 0.4578\n",
            "Epoch 00006 | Loss: 0.4425\n",
            "F1-Score: 0.6171\n",
            "Epoch 00007 | Loss: 0.4133\n",
            "Epoch 00008 | Loss: 0.3853\n",
            "Epoch 00009 | Loss: 0.3548\n",
            "Epoch 00010 | Loss: 0.3371\n",
            "Epoch 00011 | Loss: 0.2996\n",
            "F1-Score: 0.7656\n",
            "Epoch 00012 | Loss: 0.2652\n",
            "Epoch 00013 | Loss: 0.2333\n",
            "Epoch 00014 | Loss: 0.2082\n",
            "Epoch 00015 | Loss: 0.1772\n",
            "Epoch 00016 | Loss: 0.1535\n",
            "F1-Score: 0.8875\n",
            "Epoch 00017 | Loss: 0.1327\n",
            "Epoch 00018 | Loss: 0.1174\n",
            "Epoch 00019 | Loss: 0.1088\n",
            "Epoch 00020 | Loss: 0.1049\n",
            "Epoch 00021 | Loss: 0.1066\n",
            "F1-Score: 0.9220\n",
            "Epoch 00022 | Loss: 0.0910\n",
            "Epoch 00023 | Loss: 0.0786\n",
            "Epoch 00024 | Loss: 0.0692\n",
            "Epoch 00025 | Loss: 0.0628\n",
            "Epoch 00026 | Loss: 0.0605\n",
            "F1-Score: 0.9467\n",
            "Epoch 00027 | Loss: 0.0547\n",
            "Epoch 00028 | Loss: 0.0513\n",
            "Epoch 00029 | Loss: 0.0475\n",
            "Epoch 00030 | Loss: 0.0431\n",
            "Epoch 00031 | Loss: 0.0395\n",
            "F1-Score: 0.9635\n",
            "Epoch 00032 | Loss: 0.0360\n",
            "Epoch 00033 | Loss: 0.0339\n",
            "Epoch 00034 | Loss: 0.0314\n",
            "Epoch 00035 | Loss: 0.0315\n",
            "Epoch 00036 | Loss: 0.0325\n",
            "F1-Score: 0.9679\n",
            "Epoch 00037 | Loss: 0.0302\n",
            "Epoch 00038 | Loss: 0.0297\n",
            "Epoch 00039 | Loss: 0.0277\n",
            "Epoch 00040 | Loss: 0.0257\n",
            "Epoch 00041 | Loss: 0.0239\n",
            "F1-Score: 0.9716\n",
            "Epoch 00042 | Loss: 0.0213\n",
            "Epoch 00043 | Loss: 0.0209\n",
            "Epoch 00044 | Loss: 0.0205\n",
            "Epoch 00045 | Loss: 0.0214\n",
            "Epoch 00046 | Loss: 0.0221\n",
            "F1-Score: 0.9719\n",
            "Epoch 00047 | Loss: 0.0235\n",
            "Epoch 00048 | Loss: 0.0231\n",
            "Epoch 00049 | Loss: 0.0222\n",
            "Epoch 00050 | Loss: 0.0186\n",
            "Epoch 00051 | Loss: 0.0151\n",
            "F1-Score: 0.9765\n",
            "Epoch 00052 | Loss: 0.0132\n",
            "Epoch 00053 | Loss: 0.0124\n",
            "Epoch 00054 | Loss: 0.0116\n",
            "Epoch 00055 | Loss: 0.0111\n",
            "Epoch 00056 | Loss: 0.0111\n",
            "F1-Score: 0.9785\n",
            "Epoch 00057 | Loss: 0.0110\n",
            "Epoch 00058 | Loss: 0.0108\n",
            "Epoch 00059 | Loss: 0.0107\n",
            "Epoch 00060 | Loss: 0.0110\n",
            "Epoch 00061 | Loss: 0.0111\n",
            "F1-Score: 0.9788\n",
            "Epoch 00062 | Loss: 0.0112\n",
            "Epoch 00063 | Loss: 0.0105\n",
            "Epoch 00064 | Loss: 0.0104\n",
            "Epoch 00065 | Loss: 0.0107\n",
            "Epoch 00066 | Loss: 0.0103\n",
            "F1-Score: 0.9791\n",
            "Epoch 00067 | Loss: 0.0099\n",
            "Epoch 00068 | Loss: 0.0101\n",
            "Epoch 00069 | Loss: 0.0106\n",
            "Epoch 00070 | Loss: 0.0102\n",
            "Epoch 00071 | Loss: 0.0102\n",
            "F1-Score: 0.9797\n",
            "Epoch 00072 | Loss: 0.0097\n",
            "Epoch 00073 | Loss: 0.0098\n",
            "Epoch 00074 | Loss: 0.0102\n",
            "Epoch 00075 | Loss: 0.0105\n",
            "Epoch 00076 | Loss: 0.0093\n",
            "F1-Score: 0.9793\n",
            "Epoch 00077 | Loss: 0.0089\n",
            "Epoch 00078 | Loss: 0.0087\n",
            "Epoch 00079 | Loss: 0.0084\n",
            "Epoch 00080 | Loss: 0.0082\n",
            "Epoch 00081 | Loss: 0.0082\n",
            "F1-Score: 0.9803\n",
            "Epoch 00082 | Loss: 0.0084\n",
            "Epoch 00083 | Loss: 0.0082\n",
            "Epoch 00084 | Loss: 0.0082\n",
            "Epoch 00085 | Loss: 0.0086\n",
            "Epoch 00086 | Loss: 0.0087\n",
            "F1-Score: 0.9799\n",
            "Epoch 00087 | Loss: 0.0082\n",
            "Epoch 00088 | Loss: 0.0075\n",
            "Epoch 00089 | Loss: 0.0073\n",
            "Epoch 00090 | Loss: 0.0083\n",
            "Epoch 00091 | Loss: 0.0087\n",
            "F1-Score: 0.9805\n",
            "Epoch 00092 | Loss: 0.0075\n",
            "Epoch 00093 | Loss: 0.0073\n",
            "Epoch 00094 | Loss: 0.0074\n",
            "Epoch 00095 | Loss: 0.0069\n",
            "Epoch 00096 | Loss: 0.0069\n",
            "F1-Score: 0.9808\n",
            "Epoch 00097 | Loss: 0.0068\n",
            "Epoch 00098 | Loss: 0.0067\n",
            "Epoch 00099 | Loss: 0.0064\n",
            "Epoch 00100 | Loss: 0.0067\n"
          ]
        }
      ],
      "source": [
        "optimizer = torch.optim.Adam(model.parameters(), lr=0.005)\n",
        "epoch_list, student_model_scores, losses = train(model, loss_fcn, device, optimizer, 100, train_dataloader, val_dataloader)"
      ]
    },
    {
      "cell_type": "code",
      "execution_count": null,
      "metadata": {
        "id": "qeHHoJhbBotz"
      },
      "outputs": [],
      "source": [
        "# Save the trained model\n",
        "torch.save(model.state_dict(), \"model.pth\")"
      ]
    },
    {
      "cell_type": "code",
      "execution_count": null,
      "metadata": {
        "colab": {
          "base_uri": "https://localhost:8080/",
          "height": 936
        },
        "id": "RQo-iLk8jOEj",
        "outputId": "7c0b78a5-c292-4f7a-ab0a-b1f2f0d4a4ce"
      },
      "outputs": [
        {
          "data": {
            "image/png": "[encoded data removed]",
            "text/plain": [
              "<Figure size 1000x500 with 1 Axes>"
            ]
          },
          "metadata": {},
          "output_type": "display_data"
        },
        {
          "name": "stdout",
          "output_type": "stream",
          "text": [
            "Basic Model : F1-Score on the validation set: 0.9813\n"
          ]
        },
        {
          "data": {
            "image/png": "[encoded data removed]",
            "text/plain": [
              "<Figure size 1000x500 with 1 Axes>"
            ]
          },
          "metadata": {},
          "output_type": "display_data"
        }
      ],
      "source": [
        "### LOSS EVOLUTION\n",
        "def plot_loss(losses):\n",
        "    plt.figure(figsize=[10, 5])\n",
        "    plt.plot(losses)\n",
        "    plt.title(\"Evolution of Loss w.r.t epochs\")\n",
        "    plt.show()\n",
        "\n",
        "plot_loss(losses)\n",
        "\n",
        "### F1-SCORE ON VALID DATASET\n",
        "score_valid = evaluate(model, loss_fcn, device, val_dataloader)\n",
        "print(\"Basic Model : F1-Score on the validation set: {:.4f}\".format(score_valid))\n",
        "\n",
        "\n",
        "### PLOT EVOLUTION OF F1-SCORE W.R.T EPOCHS\n",
        "def plot_f1_score(epoch_list, scores):\n",
        "    plt.figure(figsize=[10, 5])\n",
        "    plt.plot(epoch_list, scores)\n",
        "    plt.title(\"Evolution of F1-Score w.r.t epochs\")\n",
        "    plt.ylim([0.0, 1.0])\n",
        "    plt.show()\n",
        "\n",
        "plot_f1_score(epoch_list, student_model_scores)"
      ]
    },
    {
      "cell_type": "markdown",
      "metadata": {
        "cell_ktag": "dBcEwaFZKufF",
        "id": "A_W05_TdURY0"
      },
      "source": [
        "## Conv 2D as Message Passing Neural Network\n",
        "\n",
        "\n",
        "## Introduction\n",
        "\n",
        "The use of graph is a way to structure data by adding neighborhood information between features. This then allows to do operations on the data that are local to each node and its neighbors. This is the main idea behind Graph Neural Networks (GNNs). [`pytorch-geometric`](https://pytorch-geometric.readthedocs.io/en/latest/) is a library compatible with PyTorch that allows to easily implement GNNs. The most general structure is the [`MessagePassing`](https://pytorch-geometric.readthedocs.io/en/latest/generated/torch_geometric.nn.conv.MessagePassing.html#torch_geometric.nn.conv.MessagePassing) class that is then used as a base for more specific GNNs as seen in the course ([Graph Convolutional Networks](https://pytorch-geometric.readthedocs.io/en/latest/generated/torch_geometric.nn.conv.GCNConv.html#torch_geometric.nn.conv.GCNConv) or [Graph AttenTion Convolution](https://pytorch-geometric.readthedocs.io/en/latest/generated/torch_geometric.nn.conv.GATConv.html#torch_geometric.nn.conv.GATConv)).\n",
        "\n",
        "On the other hand, you already know an operation that uses the structure of the data to do local operations: the convolution (https://pytorch.org/docs/stable/generated/torch.nn.Conv2d.html). One can see the convolution as a specific case of the message passing neural network. The goal of this notebook is to show how to use the `MessagePassing` class to implement a convolutional neural network.\n",
        "You will be asked to implement 3 functions. You should give back those three functions in a file named `conv_as_message_passing.py`. These functions will then be automatically tested. So be sure to respect the function signature and the function name.\n",
        "\n",
        "\n",
        "## Assumptions\n",
        "\n",
        "To make the implementation easier we will make some assumptions:\n",
        "- the input is a single image (batch size of 1) of size 'C x H x W'\n",
        "- the convolution will be a 3x3 kernel with stride 1 and padding 1.\n",
        "\n",
        "You may also assume that the Conv2D layer has no bias but it will be slightly penalized in the grading.\n",
        "\n",
        "Bonus points will be given if you can handle the cases that are not covered by those assumptions.\n",
        "\n",
        "\n",
        "## Questions\n",
        "\n",
        "### Question 2\n",
        "\n",
        "> Using the formalism used in the [`MessagePassing`](https://pytorch-geometric.readthedocs.io/en/latest/generated/torch_geometric.nn.conv.MessagePassing.html#torch_geometric.nn.conv.MessagePassing) documentation (and on [wikipedia](https://en.wikipedia.org/wiki/Graph_neural_network#Message_passing_layers) with sligthly different notations), explain how theorically you can simulate a 2D convolution using the `MessagePassing` formalism. This may include a pre-processing step to transform the image into a graph and then a post-processing step to transform the graph back into an image. (:warning: Those steps should be independent of the parameters of the convolution, but not necessarily from the hyper-parameters.)\n",
        "$$\\mathbf{x}_{i}^{\\prime} = \\gamma_{\\mathbf{\\Theta}}\\left( \\mathbf{x}_{i},\\bigoplus\\limits_{j \\in \\mathcal{N}(i)}\\,\\phi_{\\mathbf{\\Theta}}\\left( \\mathbf{x}_{i},\\mathbf{x}_{j},\\mathbf{e}_{j,i} \\right) \\right),$$\n",
        "\n",
        "\n",
        "HINT : It is possible to do it with the following $\\gamma$ :\n",
        "\n",
        "$$ \\gamma_\\Theta : x,y \\mapsto y $$\n"
      ]
    },
    {
      "cell_type": "markdown",
      "metadata": {
        "id": "AguGiszfEMyn"
      },
      "source": [
        "**ANSWER:** For our reasoning, let us stick to the assumptions made previously, namely that the image is of size $C \\times H \\times W$ and that the convolution will be a kernel of size $3 \\times 3$ with stride 1 and padding 1.\n",
        "\n",
        "First, the image can be represented as a graph where each pixel corresponds to a node. For an image with dimensions $C \\times H \\times W$, we create a graph with $H \\times W$ nodes, where each node has a feature vector of dimension $C$ corresponding to the channel values of the respective pixel.\n",
        "\n",
        "As far as the potential edges are concerned, for each node representing a pixel at position $(i,j)$, we can create incoming edges from all pixels in its $3 \\times 3$ neighborhood (including itself). This means each node receives messages from at most 9 neighbors (or exactly 9 if we consider padding), corresponding to the 9 positions in a $3 \\times 3$ convolution kernel. We also associate each edge with an attribute $\\mathbf{e}_{j,i}$ that encodes the relative position of the source pixel in the kernel with respect to the target pixel, e.g. in the case of a $3 \\times 3$ kernel:\n",
        "\n",
        "\\begin{array}{ccc}\n",
        "(-1,-1) & (0,-1) & (1,-1) \\\\\n",
        "(-1,0) & (0,0) & (1,0) \\\\\n",
        "(-1,1) & (0,1) & (1,1)\n",
        "\\end{array}\n",
        "\n",
        "\n",
        "The message function $\\phi_{{\\Theta}}$ is defined to multiply the source node's features by the corresponding kernel weight based on the relative position:\n",
        "\n",
        "$$\\phi_{{\\Theta}}(\\mathbf{x}_i, \\mathbf{x}_j, \\mathbf{e}_{j,i}) = W_{\\text{pos}(\\mathbf{e}_{j,i})} \\cdot \\mathbf{x}_j$$\n",
        "\n",
        "where $W_{\\text{pos}(\\mathbf{e}_{j,i})}$ is the weight matrix corresponding to the position encoded in $\\mathbf{e}_{j,i}$. For a $3 \\times 3$ kernel, we have 9 different weight matrices, one for each position in the kernel.\n",
        "\n",
        "Next, the aggregation function is simply a sum, coinciding with the summation in the convolution operation:\n",
        "\n",
        "$$\\bigoplus\\limits_{j \\in \\mathcal{N}(i)}\\,\\phi_{{\\Theta}}\\left( \\mathbf{x}_{i},\\mathbf{x}_{j},\\mathbf{e}_{j,i} \\right) = \\sum_{j \\in \\mathcal{N}(i)} W_{\\text{pos}(\\mathbf{e}_{j,i})} \\cdot \\mathbf{x}_j$$\n",
        "\n",
        "Finally, as suggested in the hint, the update function $\\gamma_{{\\Theta}}$ can be defined as $\\gamma_{\\Theta}(x, y) = y$, meaning we simply use the result of the aggregation as the new node feature without transforming it any further:\n",
        "\n",
        "$$\\mathbf{x}_{i}^{\\prime} = \\sum_{j \\in \\mathcal{N}(i)} W_{\\text{pos}(\\mathbf{e}_{j,i})} \\cdot \\mathbf{x}_j$$\n",
        "\n",
        "From this last equation we can conclude that the formalism exactly corresponds to the 2D convolution operation, since for each output pixel, we compute a weighted sum of its neighborhood, where the weights are given by the convolution kernel.\n",
        "\n",
        "(Note: This reasoning can easily be extended to a kernel of any size, as well as any other padding or stride value. Moreover, to extend it to the case where we have a batch containing multiple images, the process stays almost the same, as the graph structure will differ just in the number of nodes considered (it will be B times bigger than the original one). We will have B different graphs that will not affect the values of the other ones as it just deppend on the edges.)"
      ]
    },
    {
      "cell_type": "code",
      "execution_count": 3,
      "metadata": {
        "cell_ktag": "dBcEwaFZKufF",
        "id": "0uh-0q9zURY1"
      },
      "outputs": [],
      "source": [
        "import torch\n",
        "import torch_geometric\n",
        "from torch_geometric.data import Batch"
      ]
    },
    {
      "cell_type": "markdown",
      "metadata": {
        "cell_ktag": "dBcEwaFZKufF",
        "id": "JvBuHJGpURY1"
      },
      "source": [
        "### Question 3\n",
        "\n",
        "> Implement the pre-processing function, you can use the follwing code skeleton (you may change the output type, it is just a strong suggestion):"
      ]
    },
    {
      "cell_type": "code",
      "execution_count": 4,
      "metadata": {
        "id": "8O7-dkJLEYQ8"
      },
      "outputs": [],
      "source": [
        "def image_to_graph(\n",
        "    images: torch.Tensor, conv2d: nn.Conv2d | None = None\n",
        ") -> Batch:\n",
        "    \"\"\"\n",
        "    Converts a batch of images to a PyTorch Geometric Batch object.\n",
        "\n",
        "    Arguments:\n",
        "    ----------\n",
        "    images : torch.Tensor\n",
        "        Image tensor of shape (B, C, H, W) or (C, H, W).\n",
        "    conv2d : torch.nn.Conv2d, optional\n",
        "        Convolution layer that determines kernel_size, stride, and padding (if desired).\n",
        "        By default, None.\n",
        "\n",
        "    Returns:\n",
        "    --------\n",
        "    torch_geometric.data.Batch\n",
        "        A batched graph representation of all images.\n",
        "    \"\"\"\n",
        "    # Check image dimension\n",
        "    if images.dim() == 3:\n",
        "        images = images.unsqueeze(0) # Batch_size = 1\n",
        "\n",
        "    kernel_size = conv2d.kernel_size if conv2d is not None else (3, 3)\n",
        "    stride = conv2d.stride if conv2d is not None else (1, 1)\n",
        "    padding = conv2d.padding if conv2d is not None else (1, 1)\n",
        "\n",
        "    B, C, H, W = images.shape\n",
        "    data_list = []\n",
        "\n",
        "    # image size after applying convolution\n",
        "    H_o = (H + 2 * padding[0] - kernel_size[0]) // stride[0] + 1\n",
        "    W_o = (W + 2 * padding[1] - kernel_size[1]) // stride[1] + 1\n",
        "\n",
        "    # padded image size\n",
        "    H_padded, W_padded = H + 2 * padding[0], W + 2 * padding[1]\n",
        "\n",
        "    # iterate over batch elements to bulid the graph representation for each image\n",
        "    for i in range(B):\n",
        "        image = images[i]\n",
        "\n",
        "        padded_image = torch.nn.functional.pad(image, (padding[1], padding[1], padding[0], padding[0]))\n",
        "\n",
        "        edge_index = []\n",
        "        edge_attr = []\n",
        "\n",
        "        for i in range(H_o):\n",
        "            for j in range(W_o):\n",
        "                start_i = i * stride[0]\n",
        "                start_j = j * stride[1]\n",
        "\n",
        "                # target node\n",
        "                target_idx = i * W_o + j\n",
        "\n",
        "                # iterate over all possible source nodes\n",
        "                for ki in range(kernel_size[0]):\n",
        "                    for kj in range(kernel_size[1]):\n",
        "                        src_i = start_i + ki\n",
        "                        src_j = start_j + kj\n",
        "\n",
        "                        if 0 <= src_i < H_padded and 0 <= src_j < W_padded:\n",
        "                            src_idx = src_i * W_padded + src_j\n",
        "\n",
        "                            edge_index.append([src_idx, target_idx])\n",
        "\n",
        "                            kernel_pos = ki * kernel_size[1] + kj\n",
        "                            edge_attr.append([kernel_pos])\n",
        "\n",
        "        edge_index = torch.tensor(edge_index, dtype=torch.long).t()\n",
        "        edge_attr = torch.tensor(edge_attr, dtype=torch.float)\n",
        "\n",
        "        x = padded_image.permute(1, 2, 0).reshape(H_padded * W_padded, C)\n",
        "        data = torch_geometric.data.Data(x=x, edge_index=edge_index, edge_attr=edge_attr)\n",
        "        data_list.append(data)\n",
        "\n",
        "    batch = Batch.from_data_list(data_list)\n",
        "\n",
        "    return batch"
      ]
    },
    {
      "cell_type": "markdown",
      "metadata": {
        "cell_ktag": "dBcEwaFZKufF",
        "id": "JOQ6eqgfURY2"
      },
      "source": [
        "### Question 4\n",
        "\n",
        "> Implement the post-processing function, you can use the follwing code skeleton:"
      ]
    },
    {
      "cell_type": "code",
      "execution_count": 5,
      "metadata": {
        "id": "j-mjovun_Grr"
      },
      "outputs": [],
      "source": [
        "def graph_to_image(\n",
        "    data: torch.Tensor,\n",
        "    height: int,\n",
        "    width: int,\n",
        "    conv2d: torch.nn.Conv2d | None = None\n",
        ") -> torch.Tensor:\n",
        "    \"\"\"\n",
        "    Converts a graph representation of a batch of images to a 4D image tensor (B, C, H_out, W_out). B can be 1 for an individual image\n",
        "\n",
        "    Arguments:\n",
        "    ----------\n",
        "    data : torch.Tensor\n",
        "        Graph data representation of the batch of images. Shape should be (B*n_pixels, C) where n_pixels = H_o * W_o.\n",
        "    height : int\n",
        "        Height of the image.\n",
        "    width : int\n",
        "        Width of the image.\n",
        "    conv2d : torch.nn.Conv2d, optional\n",
        "        Conv2d layer to simulate, by default None\n",
        "\n",
        "    Returns:\n",
        "    --------\n",
        "    torch.Tensor\n",
        "        (B, C, new_height, new_width),\n",
        "        where B = 1 for a single graph, or batch.num_graphs for a Batch.\n",
        "    \"\"\"\n",
        "\n",
        "    n_pixels, C = data.shape\n",
        "\n",
        "    # extract kernel properties\n",
        "    padding = conv2d.padding if conv2d is not None else (1, 1)\n",
        "    kernel_size = conv2d.kernel_size if conv2d is not None else (3, 3)\n",
        "    stride = conv2d.stride if conv2d is not None else (1, 1)\n",
        "\n",
        "    # Padded dimensions\n",
        "    H_padded = height + 2 * padding[0]\n",
        "    W_padded = width + 2 * padding[1]\n",
        "\n",
        "    # Image size after convolution\n",
        "    H_o = (height + 2 * padding[0] - kernel_size[0]) // stride[0] + 1\n",
        "    W_o = (width + 2 * padding[1] - kernel_size[1]) // stride[1] + 1\n",
        "\n",
        "    # Determine the batch_size: we consider two cases, that the image size match with the one after applying the convolution or it is the\n",
        "    # one from the padded image, which can be the case if you do not apply the convolution and just want to retrieve the original image.\n",
        "    # If the method instead of receiving the tensor corresponding to the data could receive the torch_geometric.data.Batch instance, we\n",
        "    # would directly ask for the batch size.\n",
        "    padded_flag = False\n",
        "    if n_pixels % (H_o * W_o) == 0:\n",
        "      single_image_size = H_o * W_o\n",
        "    elif n_pixels % (H_padded * W_padded) == 0:\n",
        "      single_image_size = H_padded * W_padded\n",
        "      padded_flag = True\n",
        "    else:\n",
        "      raise ValueError(\"n_pixels must be divisible by H_padded * W_padded or H_o * W_o\")\n",
        "\n",
        "    batch_size = n_pixels / single_image_size\n",
        "    B = int(batch_size)\n",
        "\n",
        "    images_list = []\n",
        "    # iterate over the elements in the batch to retrieve the corresponding image\n",
        "    for graph_idx in range(B):\n",
        "        image = data[graph_idx*single_image_size:(graph_idx+1)*single_image_size]\n",
        "\n",
        "        # Dealing with padded input features\n",
        "        if padded_flag:\n",
        "            padded_image = image.reshape(H_padded, W_padded, C)\n",
        "            padded_image = padded_image.permute(2, 0, 1)\n",
        "\n",
        "            image = padded_image[:, padding[0]:padding[0]+height, padding[1]:padding[1]+width]\n",
        "\n",
        "        else: # Dealing with output features\n",
        "            kernel_size = conv2d.kernel_size if conv2d is not None else (3, 3)\n",
        "            stride = conv2d.stride if conv2d is not None else (1, 1)\n",
        "\n",
        "            image = image.reshape(H_o, W_o, C)\n",
        "            image = image.permute(2, 0, 1)\n",
        "\n",
        "        images_list.append(image)\n",
        "\n",
        "    # Stack into (B, C, new_height, new_width)\n",
        "    out = torch.stack(images_list, dim=0)\n",
        "    if B == 1:\n",
        "        out = out.squeeze(0)\n",
        "\n",
        "    return out"
      ]
    },
    {
      "cell_type": "markdown",
      "metadata": {
        "cell_ktag": "dBcEwaFZKufF",
        "id": "8HRsWs7jURY3"
      },
      "source": [
        "#### Recommended test cases\n",
        "\n",
        "We **encourage** you to test that you have the property that the pre-processing function followed by the post-processing function is the identity function."
      ]
    },
    {
      "cell_type": "code",
      "execution_count": 6,
      "metadata": {
        "cell_ktag": "dBcEwaFZKufF",
        "id": "vqt1xYqcURY4"
      },
      "outputs": [],
      "source": [
        "ref_conv = torch.nn.Conv2d(5, 7, kernel_size=3, padding=1, stride=1)\n",
        "image = torch.randn(5, 10, 11)\n",
        "g_image = image_to_graph(image, ref_conv)\n",
        "reconstructed_image = graph_to_image(g_image.x, 10, 11, ref_conv)\n",
        "assert torch.allclose(image, reconstructed_image)"
      ]
    },
    {
      "cell_type": "code",
      "execution_count": 7,
      "metadata": {
        "id": "FDqv0JksJ5kj"
      },
      "outputs": [],
      "source": [
        "# another test with batch_size > 1\n",
        "ref_conv = torch.nn.Conv2d(5, 7, kernel_size=3, padding=1, stride=1)\n",
        "image = torch.randn(2, 5, 10, 11)\n",
        "g_image = image_to_graph(image, ref_conv)\n",
        "reconstructed_image = graph_to_image(g_image.x, 10, 11, ref_conv)\n",
        "assert torch.allclose(image, reconstructed_image)"
      ]
    },
    {
      "cell_type": "markdown",
      "metadata": {
        "cell_ktag": "dBcEwaFZKufF",
        "id": "ch2HnUgcURY4"
      },
      "source": [
        "### Question 5\n",
        "\n",
        "> Implement the `Conv2dMessagePassing` class that will simulate a 2D convolution using the `MessagePassing` formalism.\n",
        "You should inherit from the `MessagePassing` class and only change the `__init__` and `message` functions (the `forward` function has already been changed for you). You should use the following code skeleton:"
      ]
    },
    {
      "cell_type": "code",
      "execution_count": 8,
      "metadata": {
        "id": "OD3bIOnZc1pr"
      },
      "outputs": [],
      "source": [
        "class Conv2dMessagePassing(torch_geometric.nn.MessagePassing):\n",
        "    \"\"\"\n",
        "    A Message Passing layer that simulates a given Conv2d layer.\n",
        "    \"\"\"\n",
        "\n",
        "    def __init__(self, conv2d: torch.nn.Conv2d):\n",
        "        super().__init__(aggr=\"add\")\n",
        "\n",
        "        # Store the Conv2d layer parameters\n",
        "        self.conv2d = conv2d\n",
        "        self.in_channels = conv2d.in_channels\n",
        "        self.out_channels = conv2d.out_channels\n",
        "        self.kernel_size = conv2d.kernel_size\n",
        "        self.padding = conv2d.padding\n",
        "        self.stride = conv2d.stride\n",
        "\n",
        "        # Extract weights and bias\n",
        "        self.weight = conv2d.weight\n",
        "        self.bias = conv2d.bias\n",
        "\n",
        "    def forward(self, data):\n",
        "        self.edge_index = data.edge_index\n",
        "\n",
        "        x, edge_index, edge_attr = data.x, data.edge_index, data.edge_attr\n",
        "        out = self.propagate(edge_index, x=x, edge_attr=edge_attr)\n",
        "        return out\n",
        "\n",
        "    def message(self, x_j: torch.Tensor, edge_attr: torch.Tensor) -> torch.Tensor:\n",
        "        \"\"\"\n",
        "        Computes the message to be passed for each edge.\n",
        "        For each edge e = (u, v) in the graph indexed by i,\n",
        "        the message trough the edge e (ie from node u to node v)\n",
        "        should be returned as the i-th line of the output tensor.\n",
        "        (The message is phi(u, v, e) in the formalism.)\n",
        "        To do this you can access the features of the source node\n",
        "        in x_j[i] and the attributes of the edge in edge_attr[i].\n",
        "\n",
        "        Arguments:\n",
        "        ----------\n",
        "        x_j : torch.Tensor\n",
        "            The features of the souce node for each edge (of size E x in_channels).\n",
        "        edge_attr : torch.Tensor\n",
        "            The attributes of the edge (of size E x edge_attr_dim).\n",
        "\n",
        "        Returns:\n",
        "        --------\n",
        "        torch.Tensor\n",
        "            The message to be passed for each edge (of size COMPLETE)\n",
        "        \"\"\"\n",
        "        # Extract kernel positions from edge attributes\n",
        "        kernel_pos = edge_attr[:, 0].long()\n",
        "\n",
        "        # Count the number of incident edges for each target node\n",
        "        max_index = torch.max(self.edge_index[1]) + 1\n",
        "        num_incident_edges = torch.zeros(max_index, device=x_j.device)\n",
        "        num_incident_edges.scatter_add_(0, self.edge_index[1], torch.ones_like(self.edge_index[1], dtype=torch.float))\n",
        "\n",
        "\n",
        "        # Reshape and permute the weight tensor for efficient computation\n",
        "        weights = self.weight.view(self.out_channels, self.in_channels, -1)\n",
        "        weights = weights.permute(2, 0, 1)  # [kernel_size[0] * kernel_size[1], out_channels, in_channels]\n",
        "\n",
        "        # Gather the appropriate weight slices\n",
        "        weight_slices = weights[kernel_pos]  # [num_edges, out_channels, in_channels]\n",
        "\n",
        "        # Apply weights to source feature\n",
        "        messages = torch.einsum('eoi,ei->eo', weight_slices, x_j)  # [num_edges, out_channels]\n",
        "\n",
        "        # Add bias divided by the number of incident edges if present (later in aggregation it will be added to each feature as the original bias value)\n",
        "        if self.bias is not None:\n",
        "            target_indices = self.edge_index[1]\n",
        "            bias_divided = self.bias / num_incident_edges[target_indices].unsqueeze(1)\n",
        "            messages += bias_divided\n",
        "\n",
        "        return messages\n",
        "\n",
        "    # with this method we make sure that it will retrieve the representation of the image after applying the convolution, removing all\n",
        "    # the rest of the pixels\n",
        "    def update(self, aggr_out: torch.Tensor, x: torch.Tensor) -> torch.Tensor:\n",
        "        # Get unique target nodes (output nodes)\n",
        "        target_nodes = torch.unique(self.edge_index[1])\n",
        "\n",
        "        # Extract only the aggregated output for target nodes\n",
        "        output_features = aggr_out[target_nodes]\n",
        "\n",
        "        return output_features"
      ]
    },
    {
      "cell_type": "markdown",
      "metadata": {
        "cell_ktag": "dBcEwaFZKufF",
        "id": "dyV-3mhDURY5"
      },
      "source": [
        "## Test example"
      ]
    },
    {
      "cell_type": "code",
      "execution_count": 14,
      "metadata": {
        "cell_ktag": "dBcEwaFZKufF",
        "id": "dD68R3jHURY6"
      },
      "outputs": [],
      "source": [
        "from conv_as_message_passing import image_to_graph, graph_to_image, Conv2dMessagePassing\n",
        "\n",
        "c = 5\n",
        "h = 10\n",
        "w = 11\n",
        "\n",
        "ref_conv = torch.nn.Conv2d(c, 2, kernel_size=3, padding=1, stride=1, bias=False)\n",
        "image = torch.randn(c, h, w)\n",
        "g_image = image_to_graph(image, ref_conv)\n",
        "ref_conv.weight.data = torch.randn_like(ref_conv.weight.data)\n",
        "\n",
        "conv_mp = Conv2dMessagePassing(ref_conv)\n",
        "g_image = conv_mp(g_image)\n",
        "\n",
        "y_th = ref_conv(image)\n",
        "\n",
        "ref_conv.weight.data = torch.randn_like(ref_conv.weight.data)\n",
        "reconstructed_image = graph_to_image(g_image, h, w, ref_conv)\n",
        "\n",
        "assert torch.allclose(y_th, reconstructed_image, atol=1e-4)\n"
      ]
    },
    {
      "cell_type": "code",
      "execution_count": 13,
      "metadata": {
        "id": "PRs4-36WKEyN"
      },
      "outputs": [],
      "source": [
        "# another example with batch_size > 1, bigger image and another kernel\n",
        "c = 5\n",
        "h = 100\n",
        "w = 100\n",
        "\n",
        "ref_conv = torch.nn.Conv2d(c, 100, kernel_size=10, padding=3, stride=2, bias=True)\n",
        "image = torch.randn(5, c, h, w)\n",
        "g_image = image_to_graph(image, ref_conv)\n",
        "ref_conv.weight.data = torch.randn_like(ref_conv.weight.data)\n",
        "\n",
        "\n",
        "conv_mp = Conv2dMessagePassing(ref_conv)\n",
        "g_image = conv_mp(g_image)\n",
        "\n",
        "y_th = ref_conv(image)\n",
        "ref_conv.weight.data = torch.randn_like(ref_conv.weight.data)\n",
        "reconstructed_image = graph_to_image(g_image, h, w, ref_conv)\n",
        "\n",
        "assert torch.allclose(y_th, reconstructed_image, atol=1e-4)"
      ]
    }
  ],
  "metadata": {
    "accelerator": "GPU",
    "colab": {
      "gpuType": "T4",
      "provenance": []
    },
    "kernelspec": {
      "display_name": "TER",
      "language": "python",
      "name": "python3"
    },
    "kfiletag": "dBcEwaFZKufF",
    "language_info": {
      "codemirror_mode": {
        "name": "ipython",
        "version": 3
      },
      "file_extension": ".py",
      "mimetype": "text/x-python",
      "name": "python",
      "nbconvert_exporter": "python",
      "pygments_lexer": "ipython3",
      "version": "3.10.13"
    }
  },
  "nbformat": 4,
  "nbformat_minor": 0
}
